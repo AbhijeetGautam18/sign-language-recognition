{
 "cells": [
  {
   "cell_type": "code",
   "execution_count": 1,
   "id": "cc923f31",
   "metadata": {},
   "outputs": [
    {
     "name": "stdout",
     "output_type": "stream",
     "text": [
      "Requirement already satisfied: opencv-python==4.7.0.68 in c:\\users\\91620\\anaconda3\\lib\\site-packages (4.7.0.68)\n",
      "Requirement already satisfied: numpy>=1.19.3 in c:\\users\\91620\\anaconda3\\lib\\site-packages (from opencv-python==4.7.0.68) (1.23.5)\n"
     ]
    },
    {
     "name": "stderr",
     "output_type": "stream",
     "text": [
      "WARNING: Ignoring invalid distribution -rotobuf (c:\\users\\91620\\anaconda3\\lib\\site-packages)\n",
      "WARNING: Ignoring invalid distribution -rotobuf (c:\\users\\91620\\anaconda3\\lib\\site-packages)\n",
      "WARNING: Ignoring invalid distribution -rotobuf (c:\\users\\91620\\anaconda3\\lib\\site-packages)\n",
      "WARNING: Ignoring invalid distribution -rotobuf (c:\\users\\91620\\anaconda3\\lib\\site-packages)\n",
      "WARNING: Ignoring invalid distribution -rotobuf (c:\\users\\91620\\anaconda3\\lib\\site-packages)\n",
      "WARNING: Ignoring invalid distribution -rotobuf (c:\\users\\91620\\anaconda3\\lib\\site-packages)\n"
     ]
    }
   ],
   "source": [
    "!pip install opencv-python==4.7.0.68"
   ]
  },
  {
   "cell_type": "code",
   "execution_count": 2,
   "id": "07654510",
   "metadata": {},
   "outputs": [
    {
     "name": "stdout",
     "output_type": "stream",
     "text": [
      "Requirement already satisfied: mediapipe==0.9.0.1 in c:\\users\\91620\\appdata\\roaming\\python\\python310\\site-packages (0.9.0.1)\n",
      "Requirement already satisfied: flatbuffers>=2.0 in c:\\users\\91620\\anaconda3\\lib\\site-packages (from mediapipe==0.9.0.1) (23.3.3)\n",
      "Requirement already satisfied: matplotlib in c:\\users\\91620\\anaconda3\\lib\\site-packages (from mediapipe==0.9.0.1) (3.7.0)\n",
      "Requirement already satisfied: opencv-contrib-python in c:\\users\\91620\\appdata\\roaming\\python\\python310\\site-packages (from mediapipe==0.9.0.1) (4.7.0.72)\n",
      "Requirement already satisfied: protobuf<4,>=3.11 in c:\\users\\91620\\anaconda3\\lib\\site-packages (from mediapipe==0.9.0.1) (3.20.3)\n",
      "Requirement already satisfied: numpy in c:\\users\\91620\\anaconda3\\lib\\site-packages (from mediapipe==0.9.0.1) (1.23.5)\n",
      "Requirement already satisfied: absl-py in c:\\users\\91620\\anaconda3\\lib\\site-packages (from mediapipe==0.9.0.1) (1.4.0)\n",
      "Requirement already satisfied: attrs>=19.1.0 in c:\\users\\91620\\anaconda3\\lib\\site-packages (from mediapipe==0.9.0.1) (22.1.0)\n",
      "Requirement already satisfied: contourpy>=1.0.1 in c:\\users\\91620\\anaconda3\\lib\\site-packages (from matplotlib->mediapipe==0.9.0.1) (1.0.5)\n",
      "Requirement already satisfied: packaging>=20.0 in c:\\users\\91620\\anaconda3\\lib\\site-packages (from matplotlib->mediapipe==0.9.0.1) (22.0)\n",
      "Requirement already satisfied: cycler>=0.10 in c:\\users\\91620\\anaconda3\\lib\\site-packages (from matplotlib->mediapipe==0.9.0.1) (0.11.0)\n",
      "Requirement already satisfied: python-dateutil>=2.7 in c:\\users\\91620\\anaconda3\\lib\\site-packages (from matplotlib->mediapipe==0.9.0.1) (2.8.2)\n",
      "Requirement already satisfied: pillow>=6.2.0 in c:\\users\\91620\\anaconda3\\lib\\site-packages (from matplotlib->mediapipe==0.9.0.1) (9.4.0)\n",
      "Requirement already satisfied: kiwisolver>=1.0.1 in c:\\users\\91620\\anaconda3\\lib\\site-packages (from matplotlib->mediapipe==0.9.0.1) (1.4.4)\n",
      "Requirement already satisfied: pyparsing>=2.3.1 in c:\\users\\91620\\anaconda3\\lib\\site-packages (from matplotlib->mediapipe==0.9.0.1) (3.0.9)\n",
      "Requirement already satisfied: fonttools>=4.22.0 in c:\\users\\91620\\anaconda3\\lib\\site-packages (from matplotlib->mediapipe==0.9.0.1) (4.25.0)\n",
      "Requirement already satisfied: six>=1.5 in c:\\users\\91620\\anaconda3\\lib\\site-packages (from python-dateutil>=2.7->matplotlib->mediapipe==0.9.0.1) (1.16.0)\n"
     ]
    },
    {
     "name": "stderr",
     "output_type": "stream",
     "text": [
      "WARNING: Ignoring invalid distribution -rotobuf (c:\\users\\91620\\anaconda3\\lib\\site-packages)\n",
      "WARNING: Ignoring invalid distribution -rotobuf (c:\\users\\91620\\anaconda3\\lib\\site-packages)\n",
      "WARNING: Ignoring invalid distribution -rotobuf (c:\\users\\91620\\anaconda3\\lib\\site-packages)\n",
      "WARNING: Ignoring invalid distribution -rotobuf (c:\\users\\91620\\anaconda3\\lib\\site-packages)\n",
      "WARNING: Ignoring invalid distribution -rotobuf (c:\\users\\91620\\anaconda3\\lib\\site-packages)\n",
      "WARNING: Ignoring invalid distribution -rotobuf (c:\\users\\91620\\anaconda3\\lib\\site-packages)\n"
     ]
    }
   ],
   "source": [
    "!pip install mediapipe==0.9.0.1 --user"
   ]
  },
  {
   "cell_type": "code",
   "execution_count": 3,
   "id": "833dd890",
   "metadata": {
    "scrolled": true
   },
   "outputs": [
    {
     "name": "stdout",
     "output_type": "stream",
     "text": [
      "Collecting data for class 0\n",
      "Collecting data for class 1\n",
      "Collecting data for class 2\n",
      "Collecting data for class 3\n",
      "Collecting data for class 4\n",
      "Collecting data for class 5\n",
      "Collecting data for class 6\n",
      "Collecting data for class 7\n",
      "Collecting data for class 8\n",
      "Collecting data for class 9\n",
      "Collecting data for class 10\n",
      "Collecting data for class 11\n",
      "Collecting data for class 12\n",
      "Collecting data for class 13\n",
      "Collecting data for class 14\n",
      "Collecting data for class 15\n",
      "Collecting data for class 16\n",
      "Collecting data for class 17\n",
      "Collecting data for class 18\n",
      "Collecting data for class 19\n",
      "Collecting data for class 20\n",
      "Collecting data for class 21\n",
      "Collecting data for class 22\n",
      "Collecting data for class 23\n",
      "Collecting data for class 24\n",
      "Collecting data for class 25\n"
     ]
    }
   ],
   "source": [
    "import os\n",
    "\n",
    "import cv2\n",
    "\n",
    "\n",
    "DATA_DIR = './data'\n",
    "if not os.path.exists(DATA_DIR):\n",
    "    os.makedirs(DATA_DIR)\n",
    "\n",
    "number_of_classes = 26\n",
    "dataset_size = 100\n",
    "\n",
    "cap = cv2.VideoCapture(0)\n",
    "for j in range(number_of_classes):\n",
    "    if not os.path.exists(os.path.join(DATA_DIR, str(j))):\n",
    "        os.makedirs(os.path.join(DATA_DIR, str(j)))\n",
    "\n",
    "    print('Collecting data for class {}'.format(j))\n",
    "\n",
    "    done = False\n",
    "    while True:\n",
    "        ret, frame = cap.read()\n",
    "        cv2.putText(frame, 'Ready? Press \"Q\" ! :)', (100, 50), cv2.FONT_HERSHEY_SIMPLEX, 1.3, (0, 255, 0), 3,\n",
    "                    cv2.LINE_AA)\n",
    "        cv2.imshow('frame', frame)\n",
    "        if cv2.waitKey(25) == ord('q'):\n",
    "            break\n",
    "\n",
    "    counter = 0\n",
    "    while counter < dataset_size:\n",
    "        ret, frame = cap.read()\n",
    "        cv2.imshow('frame', frame)\n",
    "        cv2.waitKey(25)\n",
    "        cv2.imwrite(os.path.join(DATA_DIR, str(j), '{}.jpg'.format(counter)), frame)\n",
    "\n",
    "        counter += 1\n",
    "\n",
    "cap.release()\n",
    "cv2.destroyAllWindows()"
   ]
  },
  {
   "cell_type": "code",
   "execution_count": null,
   "id": "968befc1",
   "metadata": {},
   "outputs": [],
   "source": []
  }
 ],
 "metadata": {
  "kernelspec": {
   "display_name": "Python 3 (ipykernel)",
   "language": "python",
   "name": "python3"
  },
  "language_info": {
   "codemirror_mode": {
    "name": "ipython",
    "version": 3
   },
   "file_extension": ".py",
   "mimetype": "text/x-python",
   "name": "python",
   "nbconvert_exporter": "python",
   "pygments_lexer": "ipython3",
   "version": "3.10.9"
  }
 },
 "nbformat": 4,
 "nbformat_minor": 5
}
